{
 "cells": [
  {
   "cell_type": "markdown",
   "id": "cc5e2be9",
   "metadata": {},
   "source": [
    "## Simple demonstration of how each data extraction works"
   ]
  },
  {
   "cell_type": "markdown",
   "id": "ad4bb045",
   "metadata": {},
   "source": [
    "* First, let's bring each files in the backend by appending them here using ``sys`` and ``os``"
   ]
  },
  {
   "cell_type": "code",
   "execution_count": 2,
   "id": "74cd04f6",
   "metadata": {},
   "outputs": [],
   "source": [
    "import sys\n",
    "import os\n",
    "\n",
    "# Add the parent directory to sys.path\n",
    "sys.path.append(os.path.abspath(os.path.join(os.getcwd(), \"..\")))\n"
   ]
  },
  {
   "cell_type": "markdown",
   "id": "35756537",
   "metadata": {},
   "source": [
    "1. Elevation data"
   ]
  },
  {
   "cell_type": "code",
   "execution_count": null,
   "id": "dcba1dbc",
   "metadata": {},
   "outputs": [
    {
     "data": {
      "text/plain": [
       "767.0"
      ]
     },
     "execution_count": 5,
     "metadata": {},
     "output_type": "execute_result"
    }
   ],
   "source": [
    "from backend import elevation\n",
    "\n",
    "elevation = elevation.get_elevation(5.67, 36.95)\n",
    "\n",
    "elevation"
   ]
  },
  {
   "cell_type": "markdown",
   "id": "a6c3f589",
   "metadata": {},
   "source": [
    "2. Soil Information "
   ]
  },
  {
   "cell_type": "code",
   "execution_count": null,
   "id": "6cd99375",
   "metadata": {},
   "outputs": [
    {
     "data": {
      "text/plain": [
       "{'coordinates': {'lat': 5.67, 'lon': 36.95},\n",
       " 'depth': {'value': '0-20', 'unit': 'cm'},\n",
       " 'properties': {'aluminium_extractable': {'unit': 'ppm',\n",
       "   'type': 'float',\n",
       "   'predicted_value': 120.5,\n",
       "   'interval_for_value_90pct': {'lower_bound': 18.9, 'upper_bound': 741.0}},\n",
       "  'ph': {'unit': None,\n",
       "   'type': 'float',\n",
       "   'predicted_value': 6.9,\n",
       "   'interval_for_value_90pct': {'lower_bound': 6.1, 'upper_bound': 7.7}},\n",
       "  'nitrogen_total': {'unit': 'g/kg',\n",
       "   'type': 'float',\n",
       "   'predicted_value': 0.9,\n",
       "   'interval_for_value_90pct': {'lower_bound': 0.6, 'upper_bound': 1.1}},\n",
       "  'phosphorous_extractable': {'unit': 'ppm',\n",
       "   'type': 'float',\n",
       "   'predicted_value': 13.9,\n",
       "   'interval_for_value_90pct': {'lower_bound': 8.1, 'upper_bound': 23.4}},\n",
       "  'potassium_extractable': {'unit': 'ppm',\n",
       "   'type': 'float',\n",
       "   'predicted_value': 297.9,\n",
       "   'interval_for_value_90pct': {'lower_bound': 252.5, 'upper_bound': 351.3}},\n",
       "  'magnesium_extractable': {'unit': 'ppm',\n",
       "   'type': 'float',\n",
       "   'predicted_value': 297.9,\n",
       "   'interval_for_value_90pct': {'lower_bound': 181.5, 'upper_bound': 488.5}},\n",
       "  'calcium_extractable': {'unit': 'ppm',\n",
       "   'type': 'float',\n",
       "   'predicted_value': 1807.0,\n",
       "   'interval_for_value_90pct': {'lower_bound': 1102.8, 'upper_bound': 2960.5}},\n",
       "  'iron_extractable': {'unit': 'ppm',\n",
       "   'type': 'float',\n",
       "   'predicted_value': 48.4,\n",
       "   'interval_for_value_90pct': {'lower_bound': 29.2, 'upper_bound': 79.9}},\n",
       "  'zinc_extractable': {'unit': 'ppm',\n",
       "   'type': 'float',\n",
       "   'predicted_value': 1.2,\n",
       "   'interval_for_value_90pct': {'lower_bound': 0.9, 'upper_bound': 1.6}},\n",
       "  'sulphur_extractable': {'unit': 'ppm',\n",
       "   'type': 'float',\n",
       "   'predicted_value': 7.2,\n",
       "   'interval_for_value_90pct': {'lower_bound': 4.0, 'upper_bound': 12.4}},\n",
       "  'carbon_total': {'unit': 'g/kg',\n",
       "   'type': 'float',\n",
       "   'predicted_value': 13.9,\n",
       "   'interval_for_value_90pct': {'lower_bound': 5.5, 'upper_bound': 32.9}},\n",
       "  'carbon_organic': {'unit': 'g/kg',\n",
       "   'type': 'float',\n",
       "   'predicted_value': 8.0,\n",
       "   'interval_for_value_90pct': {'lower_bound': 0, 'upper_bound': 0}},\n",
       "  'bulk_density': {'unit': 'g/cm³',\n",
       "   'type': 'float',\n",
       "   'predicted_value': 1.4,\n",
       "   'interval_for_value_90pct': {'lower_bound': 1.3, 'upper_bound': 1.5}},\n",
       "  'stone_content': {'unit': '%',\n",
       "   'type': 'float',\n",
       "   'predicted_value': 4.0,\n",
       "   'interval_for_value_90pct': {'lower_bound': 2.6, 'upper_bound': 5.9}},\n",
       "  'silt_content': {'unit': '%',\n",
       "   'type': 'float',\n",
       "   'predicted_value': 22,\n",
       "   'interval_for_value_90pct': {'lower_bound': 20.4, 'upper_bound': 23.6}},\n",
       "  'clay_content': {'unit': '%',\n",
       "   'type': 'float',\n",
       "   'predicted_value': 27,\n",
       "   'interval_for_value_90pct': {'lower_bound': 18.8, 'upper_bound': 35.2}},\n",
       "  'sand_content': {'unit': '%',\n",
       "   'type': 'float',\n",
       "   'predicted_value': 50,\n",
       "   'interval_for_value_90pct': {'lower_bound': 36.8, 'upper_bound': 63.2}},\n",
       "  'texture_class': {'unit': None,\n",
       "   'type': 'string',\n",
       "   'predicted_value': 'Sandy Clay Loam'},\n",
       "  'cation_exchange_capacity': {'unit': 'cmol(+)/kg',\n",
       "   'type': 'float',\n",
       "   'predicted_value': 12.5,\n",
       "   'interval_for_value_90pct': {'lower_bound': 10.4, 'upper_bound': 14.9}}}}"
      ]
     },
     "execution_count": 7,
     "metadata": {},
     "output_type": "execute_result"
    }
   ],
   "source": [
    "from backend.isda import fetch_isda_soil_property\n",
    "\n",
    "result = await fetch_isda_soil_property(5.67, 36.95)\n",
    "result"
   ]
  },
  {
   "cell_type": "markdown",
   "id": "210c31ea",
   "metadata": {},
   "source": [
    "3. Locational Information using reverse geocoding"
   ]
  },
  {
   "cell_type": "code",
   "execution_count": 8,
   "id": "0ab7ff75",
   "metadata": {},
   "outputs": [
    {
     "data": {
      "text/plain": [
       "{'input_coordinates': {'lat': 5.67, 'lon': 36.95},\n",
       " 'bounds_of_city': {'northeast': {'lat': 6.4695117, 'lng': 37.0637492},\n",
       "  'southwest': {'lat': 4.4388298, 'lng': 35.7365902}},\n",
       " 'locational_info': {'ISO_3166-1_alpha-2': 'ET',\n",
       "  'ISO_3166-1_alpha-3': 'ETH',\n",
       "  'ISO_3166-2': ['ET-SE'],\n",
       "  '_category': 'place',\n",
       "  '_type': 'state_district',\n",
       "  'continent': 'Africa',\n",
       "  'country': 'Ethiopia',\n",
       "  'country_code': 'et',\n",
       "  'state': 'South Ethiopia Regional State',\n",
       "  'state_district': 'South Omo'},\n",
       " 'formatted_city': 'South Omo, Ethiopia',\n",
       " 'center_of_city': {'lat': 5.4574969, 'lng': 36.4003795},\n",
       " 'distance_from_city': {'meters': 65245}}"
      ]
     },
     "execution_count": 8,
     "metadata": {},
     "output_type": "execute_result"
    }
   ],
   "source": [
    "from backend.location import reverse_geocode\n",
    "\n",
    "location = reverse_geocode(5.67, 36.95)\n",
    "\n",
    "location"
   ]
  },
  {
   "cell_type": "markdown",
   "id": "20841725",
   "metadata": {},
   "source": [
    "4. Weather Extraction"
   ]
  },
  {
   "cell_type": "code",
   "execution_count": 9,
   "id": "d735b2d1",
   "metadata": {},
   "outputs": [
    {
     "data": {
      "text/html": [
       "<div>\n",
       "<style scoped>\n",
       "    .dataframe tbody tr th:only-of-type {\n",
       "        vertical-align: middle;\n",
       "    }\n",
       "\n",
       "    .dataframe tbody tr th {\n",
       "        vertical-align: top;\n",
       "    }\n",
       "\n",
       "    .dataframe thead th {\n",
       "        text-align: right;\n",
       "    }\n",
       "</style>\n",
       "<table border=\"1\" class=\"dataframe\">\n",
       "  <thead>\n",
       "    <tr style=\"text-align: right;\">\n",
       "      <th></th>\n",
       "      <th>datetime</th>\n",
       "      <th>temperature (°C)</th>\n",
       "      <th>humidity (%)</th>\n",
       "      <th>precipitation (mm)</th>\n",
       "      <th>weather_code</th>\n",
       "      <th>weather_summary</th>\n",
       "      <th>Season_et</th>\n",
       "      <th>Season_en</th>\n",
       "      <th>latitude</th>\n",
       "      <th>longitude</th>\n",
       "    </tr>\n",
       "  </thead>\n",
       "  <tbody>\n",
       "    <tr>\n",
       "      <th>0</th>\n",
       "      <td>2025-07-30 00:00:00+03:00</td>\n",
       "      <td>19.8</td>\n",
       "      <td>62</td>\n",
       "      <td>0.0</td>\n",
       "      <td>3</td>\n",
       "      <td>Overcast</td>\n",
       "      <td>Kiremt</td>\n",
       "      <td>Summer</td>\n",
       "      <td>5.67</td>\n",
       "      <td>36.95</td>\n",
       "    </tr>\n",
       "    <tr>\n",
       "      <th>1</th>\n",
       "      <td>2025-07-30 01:00:00+03:00</td>\n",
       "      <td>19.6</td>\n",
       "      <td>60</td>\n",
       "      <td>0.0</td>\n",
       "      <td>3</td>\n",
       "      <td>Overcast</td>\n",
       "      <td>Kiremt</td>\n",
       "      <td>Summer</td>\n",
       "      <td>5.67</td>\n",
       "      <td>36.95</td>\n",
       "    </tr>\n",
       "    <tr>\n",
       "      <th>2</th>\n",
       "      <td>2025-07-30 02:00:00+03:00</td>\n",
       "      <td>19.4</td>\n",
       "      <td>60</td>\n",
       "      <td>0.0</td>\n",
       "      <td>3</td>\n",
       "      <td>Overcast</td>\n",
       "      <td>Kiremt</td>\n",
       "      <td>Summer</td>\n",
       "      <td>5.67</td>\n",
       "      <td>36.95</td>\n",
       "    </tr>\n",
       "    <tr>\n",
       "      <th>3</th>\n",
       "      <td>2025-07-30 03:00:00+03:00</td>\n",
       "      <td>18.9</td>\n",
       "      <td>62</td>\n",
       "      <td>0.0</td>\n",
       "      <td>3</td>\n",
       "      <td>Overcast</td>\n",
       "      <td>Kiremt</td>\n",
       "      <td>Summer</td>\n",
       "      <td>5.67</td>\n",
       "      <td>36.95</td>\n",
       "    </tr>\n",
       "    <tr>\n",
       "      <th>4</th>\n",
       "      <td>2025-07-30 04:00:00+03:00</td>\n",
       "      <td>18.9</td>\n",
       "      <td>62</td>\n",
       "      <td>0.0</td>\n",
       "      <td>3</td>\n",
       "      <td>Overcast</td>\n",
       "      <td>Kiremt</td>\n",
       "      <td>Summer</td>\n",
       "      <td>5.67</td>\n",
       "      <td>36.95</td>\n",
       "    </tr>\n",
       "    <tr>\n",
       "      <th>...</th>\n",
       "      <td>...</td>\n",
       "      <td>...</td>\n",
       "      <td>...</td>\n",
       "      <td>...</td>\n",
       "      <td>...</td>\n",
       "      <td>...</td>\n",
       "      <td>...</td>\n",
       "      <td>...</td>\n",
       "      <td>...</td>\n",
       "      <td>...</td>\n",
       "    </tr>\n",
       "    <tr>\n",
       "      <th>163</th>\n",
       "      <td>2025-08-05 19:00:00+03:00</td>\n",
       "      <td>22.4</td>\n",
       "      <td>64</td>\n",
       "      <td>0.0</td>\n",
       "      <td>2</td>\n",
       "      <td>Partly cloudy</td>\n",
       "      <td>Kiremt</td>\n",
       "      <td>Summer</td>\n",
       "      <td>5.67</td>\n",
       "      <td>36.95</td>\n",
       "    </tr>\n",
       "    <tr>\n",
       "      <th>164</th>\n",
       "      <td>2025-08-05 20:00:00+03:00</td>\n",
       "      <td>21.0</td>\n",
       "      <td>71</td>\n",
       "      <td>0.0</td>\n",
       "      <td>2</td>\n",
       "      <td>Partly cloudy</td>\n",
       "      <td>Kiremt</td>\n",
       "      <td>Summer</td>\n",
       "      <td>5.67</td>\n",
       "      <td>36.95</td>\n",
       "    </tr>\n",
       "    <tr>\n",
       "      <th>165</th>\n",
       "      <td>2025-08-05 21:00:00+03:00</td>\n",
       "      <td>20.0</td>\n",
       "      <td>76</td>\n",
       "      <td>0.0</td>\n",
       "      <td>2</td>\n",
       "      <td>Partly cloudy</td>\n",
       "      <td>Kiremt</td>\n",
       "      <td>Summer</td>\n",
       "      <td>5.67</td>\n",
       "      <td>36.95</td>\n",
       "    </tr>\n",
       "    <tr>\n",
       "      <th>166</th>\n",
       "      <td>2025-08-05 22:00:00+03:00</td>\n",
       "      <td>19.7</td>\n",
       "      <td>76</td>\n",
       "      <td>0.0</td>\n",
       "      <td>2</td>\n",
       "      <td>Partly cloudy</td>\n",
       "      <td>Kiremt</td>\n",
       "      <td>Summer</td>\n",
       "      <td>5.67</td>\n",
       "      <td>36.95</td>\n",
       "    </tr>\n",
       "    <tr>\n",
       "      <th>167</th>\n",
       "      <td>2025-08-05 23:00:00+03:00</td>\n",
       "      <td>19.6</td>\n",
       "      <td>75</td>\n",
       "      <td>0.0</td>\n",
       "      <td>2</td>\n",
       "      <td>Partly cloudy</td>\n",
       "      <td>Kiremt</td>\n",
       "      <td>Summer</td>\n",
       "      <td>5.67</td>\n",
       "      <td>36.95</td>\n",
       "    </tr>\n",
       "  </tbody>\n",
       "</table>\n",
       "<p>168 rows × 10 columns</p>\n",
       "</div>"
      ],
      "text/plain": [
       "                     datetime  temperature (°C)  ...  latitude  longitude\n",
       "0   2025-07-30 00:00:00+03:00              19.8  ...      5.67      36.95\n",
       "1   2025-07-30 01:00:00+03:00              19.6  ...      5.67      36.95\n",
       "2   2025-07-30 02:00:00+03:00              19.4  ...      5.67      36.95\n",
       "3   2025-07-30 03:00:00+03:00              18.9  ...      5.67      36.95\n",
       "4   2025-07-30 04:00:00+03:00              18.9  ...      5.67      36.95\n",
       "..                        ...               ...  ...       ...        ...\n",
       "163 2025-08-05 19:00:00+03:00              22.4  ...      5.67      36.95\n",
       "164 2025-08-05 20:00:00+03:00              21.0  ...      5.67      36.95\n",
       "165 2025-08-05 21:00:00+03:00              20.0  ...      5.67      36.95\n",
       "166 2025-08-05 22:00:00+03:00              19.7  ...      5.67      36.95\n",
       "167 2025-08-05 23:00:00+03:00              19.6  ...      5.67      36.95\n",
       "\n",
       "[168 rows x 10 columns]"
      ]
     },
     "execution_count": 9,
     "metadata": {},
     "output_type": "execute_result"
    }
   ],
   "source": [
    "from backend.weather import fetch_weather_open, summarize_weather_dataframe\n",
    "\n",
    "weather_data = fetch_weather_open(5.67, 36.95)\n",
    "\n",
    "weather_data"
   ]
  },
  {
   "cell_type": "markdown",
   "id": "ede73a00",
   "metadata": {},
   "source": [
    "* This function prepares the above dataframe to be fed to the prompt of the LLM"
   ]
  },
  {
   "cell_type": "code",
   "execution_count": null,
   "id": "762e8888",
   "metadata": {},
   "outputs": [
    {
     "data": {
      "text/plain": [
       "{'start_date': '2025-07-30',\n",
       " 'today_date': '2025-07-30',\n",
       " 'end_date': '2025-08-05',\n",
       " 'season_et': 'Kiremt',\n",
       " 'season_en': 'Summer',\n",
       " 'avg_temperature': '21.4 °C',\n",
       " 'avg_humidity': '62.7%',\n",
       " 'total_precipitation': '5.3 mm',\n",
       " 'rainy_days': 3,\n",
       " 'today_weather': {'temperature': '21.6 °C',\n",
       "  'humidity': '53.6%',\n",
       "  'precipitation': '0.0 mm'}}"
      ]
     },
     "execution_count": 10,
     "metadata": {},
     "output_type": "execute_result"
    }
   ],
   "source": [
    "summarized_weather = summarize_weather_dataframe(weather_data)\n",
    "\n",
    "summarized_weather"
   ]
  }
 ],
 "metadata": {
  "kernelspec": {
   "display_name": ".venv",
   "language": "python",
   "name": "python3"
  },
  "language_info": {
   "codemirror_mode": {
    "name": "ipython",
    "version": 3
   },
   "file_extension": ".py",
   "mimetype": "text/x-python",
   "name": "python",
   "nbconvert_exporter": "python",
   "pygments_lexer": "ipython3",
   "version": "3.13.3"
  }
 },
 "nbformat": 4,
 "nbformat_minor": 5
}
